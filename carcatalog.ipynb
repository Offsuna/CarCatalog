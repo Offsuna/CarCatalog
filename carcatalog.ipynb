{
 "cells": [
  {
   "cell_type": "code",
   "execution_count": 1,
   "id": "9110bcdc-0ad2-4a49-b593-992e5f737f0e",
   "metadata": {},
   "outputs": [],
   "source": [
    "%matplotlib inline"
   ]
  },
  {
   "cell_type": "code",
   "execution_count": 2,
   "id": "b9f60824-c798-44d3-a446-0d7b95097806",
   "metadata": {},
   "outputs": [],
   "source": [
    "import pandas as pd\n",
    "import matplotlib.pyplot as plt\n",
    "import seaborn as sns"
   ]
  },
  {
   "cell_type": "code",
   "execution_count": 3,
   "id": "50fe3d55-b26c-41cf-bc64-c042074e0b91",
   "metadata": {},
   "outputs": [],
   "source": [
    "sns.set(style=\"darkgrid\")"
   ]
  },
  {
   "cell_type": "code",
   "execution_count": 4,
   "id": "c2927c0f-ac59-4dc5-822e-d17d92076ed5",
   "metadata": {},
   "outputs": [],
   "source": [
    "df = pd.read_csv('cars.csv')"
   ]
  },
  {
   "cell_type": "code",
   "execution_count": 5,
   "id": "4b2e6ab5-6cc9-402c-aa3f-4e7cda8919eb",
   "metadata": {},
   "outputs": [],
   "source": [
    "#Numero de cotxes dels que tenim dades."
   ]
  },
  {
   "cell_type": "code",
   "execution_count": 6,
   "id": "ee825998-827e-4350-a365-f7aa65ed4bb0",
   "metadata": {},
   "outputs": [
    {
     "data": {
      "text/plain": [
       "38531"
      ]
     },
     "execution_count": 6,
     "metadata": {},
     "output_type": "execute_result"
    }
   ],
   "source": [
    "len(df)"
   ]
  },
  {
   "cell_type": "code",
   "execution_count": 7,
   "id": "4b6c74bf-c146-481c-afbe-d57ae122e054",
   "metadata": {},
   "outputs": [
    {
     "data": {
      "text/plain": [
       "manufacturer_name     object\n",
       "model_name            object\n",
       "transmission          object\n",
       "color                 object\n",
       "odometer_value         int64\n",
       "year_produced          int64\n",
       "engine_fuel           object\n",
       "engine_has_gas          bool\n",
       "engine_type           object\n",
       "engine_capacity      float64\n",
       "body_type             object\n",
       "has_warranty            bool\n",
       "state                 object\n",
       "drivetrain            object\n",
       "price_usd            float64\n",
       "is_exchangeable         bool\n",
       "location_region       object\n",
       "number_of_photos       int64\n",
       "up_counter             int64\n",
       "feature_0               bool\n",
       "feature_1               bool\n",
       "feature_2               bool\n",
       "feature_3               bool\n",
       "feature_4               bool\n",
       "feature_5               bool\n",
       "feature_6               bool\n",
       "feature_7               bool\n",
       "feature_8               bool\n",
       "feature_9               bool\n",
       "duration_listed        int64\n",
       "dtype: object"
      ]
     },
     "execution_count": 7,
     "metadata": {},
     "output_type": "execute_result"
    }
   ],
   "source": [
    "df.dtypes"
   ]
  },
  {
   "cell_type": "code",
   "execution_count": 8,
   "id": "62edb2b3-fb4d-4038-8936-cf15bcd5be6b",
   "metadata": {},
   "outputs": [],
   "source": [
    "#Fem una copia de dataframe per jugar a eliminar columnes i registres"
   ]
  },
  {
   "cell_type": "code",
   "execution_count": 9,
   "id": "72d87c9a-39b5-4864-a566-a403bd19f2cd",
   "metadata": {},
   "outputs": [],
   "source": [
    "dfAlt = df"
   ]
  },
  {
   "cell_type": "code",
   "execution_count": 10,
   "id": "a0de50c8-f57f-4e26-b4b4-a1927737fe65",
   "metadata": {},
   "outputs": [],
   "source": [
    "#Esborrem les columnes que no interessen."
   ]
  },
  {
   "cell_type": "code",
   "execution_count": 11,
   "id": "891befef-2ec6-4638-86c0-78bab9bd1735",
   "metadata": {},
   "outputs": [],
   "source": [
    "dfAlt = dfAlt.drop(columns=['has_warranty','state','is_exchangeable','location_region','number_of_photos','feature_0','feature_1','feature_2','feature_3','feature_4','feature_5','feature_6','feature_7','feature_8','feature_9'])"
   ]
  },
  {
   "cell_type": "code",
   "execution_count": 12,
   "id": "9fdd704d-d740-447f-943c-452f4491bb74",
   "metadata": {},
   "outputs": [
    {
     "data": {
      "text/plain": [
       "manufacturer_name     object\n",
       "model_name            object\n",
       "transmission          object\n",
       "color                 object\n",
       "odometer_value         int64\n",
       "year_produced          int64\n",
       "engine_fuel           object\n",
       "engine_has_gas          bool\n",
       "engine_type           object\n",
       "engine_capacity      float64\n",
       "body_type             object\n",
       "drivetrain            object\n",
       "price_usd            float64\n",
       "up_counter             int64\n",
       "duration_listed        int64\n",
       "dtype: object"
      ]
     },
     "execution_count": 12,
     "metadata": {},
     "output_type": "execute_result"
    }
   ],
   "source": [
    "dfAlt.dtypes"
   ]
  }
 ],
 "metadata": {
  "kernelspec": {
   "display_name": "Python 3 (ipykernel)",
   "language": "python",
   "name": "python3"
  },
  "language_info": {
   "codemirror_mode": {
    "name": "ipython",
    "version": 3
   },
   "file_extension": ".py",
   "mimetype": "text/x-python",
   "name": "python",
   "nbconvert_exporter": "python",
   "pygments_lexer": "ipython3",
   "version": "3.12.0"
  }
 },
 "nbformat": 4,
 "nbformat_minor": 5
}
